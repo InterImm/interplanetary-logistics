{
 "cells": [
  {
   "cell_type": "markdown",
   "metadata": {},
   "source": [
    "## Interplanetary Logistics: Earth to Mars"
   ]
  },
  {
   "cell_type": "code",
   "execution_count": 1,
   "metadata": {},
   "outputs": [],
   "source": [
    "from astropy import time"
   ]
  },
  {
   "cell_type": "code",
   "execution_count": 5,
   "metadata": {},
   "outputs": [],
   "source": [
    "from poliastro.bodies import Earth, Mars, Sun\n",
    "from poliastro.twobody import Orbit\n",
    "from poliastro.maneuver import Maneuver"
   ]
  },
  {
   "cell_type": "code",
   "execution_count": 22,
   "metadata": {},
   "outputs": [],
   "source": [
    "def total_delta_v(launch, arrival):\n",
    "    \"\"\"Calculate the total delta v for specific combination of launch date and arrival date\n",
    "    \"\"\"\n",
    "    \n",
    "    date_launch = time.Time(launch, scale=\"utc\")\n",
    "    date_arrival = time.Time(arrival, scale=\"utc\")\n",
    "\n",
    "    ss_earth = Orbit.from_body_ephem(Earth, date_launch)\n",
    "    ss_mars = Orbit.from_body_ephem(Mars, date_arrival)\n",
    "\n",
    "    man_lambert = Maneuver.lambert(ss_earth, ss_mars)\n",
    "\n",
    "    return {\n",
    "        'delta_v': man_lambert.get_total_cost().value, \n",
    "        'total_seconds': man_lambert.get_total_time().value\n",
    "    }\n"
   ]
  },
  {
   "cell_type": "code",
   "execution_count": 26,
   "metadata": {},
   "outputs": [],
   "source": [
    "class PricingEngine():\n",
    "    def __init__(self, params):\n",
    "        \"\"\"Initialize pricing engine\n",
    "        \n",
    "        params specifies the parameters to be used to determine the price of the shipment.\n",
    "        \n",
    "        1. delta_v is in unit of km/s\n",
    "        2. euros_per_delta_v is the cost for each km/s\n",
    "        \"\"\"\n",
    "        self.delta_v = params.get('delta_v')\n",
    "        self.euros_per_delta_v = params.get('euros_per_delta_v') or 1/50\n",
    "        \n",
    "    def _per_delta_v(self):\n",
    "        \n",
    "        return self.delta_v * self.euros_per_delta_v\n",
    "    \n",
    "    def price(self, method=None):\n",
    "        \"\"\"Calculate the price\n",
    "        \"\"\"\n",
    "        if method is None:\n",
    "            method = 'per_delta_v'\n",
    "        \n",
    "        methods = {\n",
    "            'per_delta_v': self._per_delta_v\n",
    "        }\n",
    "        \n",
    "        use_method = methods.get(method)\n",
    "        if not use_method:\n",
    "            raise Exception('No method defined for : {}'.format(use_method))\n",
    "        else:\n",
    "            euros = use_method()\n",
    "            return euros\n",
    "        \n",
    "        "
   ]
  },
  {
   "cell_type": "code",
   "execution_count": 29,
   "metadata": {},
   "outputs": [],
   "source": [
    "parameters = {\n",
    "    'delta_v': total_delta_v('2019-12-08', '2022-01-01').get('delta_v')\n",
    "}\n",
    "pe = PricingEngine(parameters)"
   ]
  },
  {
   "cell_type": "code",
   "execution_count": 30,
   "metadata": {},
   "outputs": [
    {
     "data": {
      "text/plain": [
       "24940.31092366127"
      ]
     },
     "execution_count": 30,
     "metadata": {},
     "output_type": "execute_result"
    }
   ],
   "source": [
    "pe.price()"
   ]
  },
  {
   "cell_type": "code",
   "execution_count": null,
   "metadata": {},
   "outputs": [],
   "source": []
  }
 ],
 "metadata": {
  "kernelspec": {
   "display_name": "interplanetary-logistics",
   "language": "python",
   "name": "interplanetary-logistics"
  },
  "language_info": {
   "codemirror_mode": {
    "name": "ipython",
    "version": 3
   },
   "file_extension": ".py",
   "mimetype": "text/x-python",
   "name": "python",
   "nbconvert_exporter": "python",
   "pygments_lexer": "ipython3",
   "version": "3.7.5"
  }
 },
 "nbformat": 4,
 "nbformat_minor": 4
}
